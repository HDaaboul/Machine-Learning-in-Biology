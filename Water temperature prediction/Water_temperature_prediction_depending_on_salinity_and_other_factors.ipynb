{
 "cells": [
  {
   "cell_type": "markdown",
   "id": "87d19b06-ad7d-4334-9d24-26413ef9b457",
   "metadata": {},
   "source": [
    "# Predicting water temperature by salinity and other factors"
   ]
  },
  {
   "cell_type": "markdown",
   "id": "26e03f73-b388-4dee-9cf1-3dcda3c1653e",
   "metadata": {},
   "source": [
    "**Task Description:**  \n",
    "Training a machine learning model to predict the temperature of water depending on salinity and many other factors.  \n",
    "**Data Description**  \n",
    "The CalCOFI data set represents the longest (1949-present) and most complete (more than 50,000 sampling stations) time series of oceanographic and larval fish data in the world. It includes abundance data on the larvae of over 250 species of fish; larval length frequency data and egg abundance data on key commercial species; and oceanographic and plankton data. The physical, chemical, and biological data collected at regular time and space intervals quickly became valuable for documenting climatic cycles in the California Current and a range of biological responses to them."
   ]
  },
  {
   "cell_type": "markdown",
   "id": "9389e0e1-5d5c-41cd-9864-6ff507ed946e",
   "metadata": {},
   "source": [
    "#### iPython Notebook Sections\n",
    "1. Import required libraries\n",
    "2. Data loading\n",
    "3. Dimensionality reduction\n",
    "   1. remove all coulmns that have missing values more than 10% of their values.\n",
    "   2. remove all rows that have missing values in thier T_degC coulumn.\n",
    "   3. remove all rows that have missing values more that 10% of their values.  \n",
    "   4. remove all features (columns) that have weak correlation with the temperature of water.  \n",
    "4. Multiple regression model building, training and testing.  \n",
    "5. Evaluation of prediction model."
   ]
  },
  {
   "cell_type": "markdown",
   "id": "1a81950a-91eb-48ff-8ec3-b6ca5ab57ea5",
   "metadata": {},
   "source": [
    "**1. Import required libraries**"
   ]
  },
  {
   "cell_type": "code",
   "execution_count": 1,
   "id": "3a901b60-81df-466a-9a47-dcb7efc3ffd7",
   "metadata": {},
   "outputs": [],
   "source": [
    "import pandas as pd\n",
    "import numpy as np\n",
    "import matplotlib.pyplot as plt\n",
    "%matplotlib inline\n",
    "import seaborn as sns\n",
    "\n",
    "from scipy.stats import pearsonr\n",
    "from sklearn.preprocessing import StandardScaler\n",
    "from sklearn.preprocessing import PolynomialFeatures\n",
    "from sklearn.linear_model import LinearRegression\n",
    "from sklearn.pipeline import make_pipeline\n",
    "from sklearn.linear_model import Ridge\n",
    "from sklearn.model_selection import GridSearchCV, cross_val_score\n",
    "from sklearn.model_selection import train_test_split\n",
    "from sklearn.metrics import r2_score, mean_squared_error, mean_absolute_error"
   ]
  },
  {
   "cell_type": "markdown",
   "id": "52713d17-97bd-4450-9b8c-2cd49e9118b4",
   "metadata": {},
   "source": [
    "**2. Data loading**"
   ]
  },
  {
   "cell_type": "code",
   "execution_count": 2,
   "id": "7ca2c7bc-693c-4a42-ac03-67d8e542b7e3",
   "metadata": {},
   "outputs": [
    {
     "name": "stderr",
     "output_type": "stream",
     "text": [
      "C:\\Users\\HASAN\\AppData\\Local\\Temp\\ipykernel_19032\\1459099090.py:1: DtypeWarning: Columns (47,73) have mixed types. Specify dtype option on import or set low_memory=False.\n",
      "  bottle_data = pd.read_csv(\"/Users/HASAN/Desktop/machine learning projects/Water temperature prediction/datasets/bottle.csv\")\n"
     ]
    },
    {
     "name": "stdout",
     "output_type": "stream",
     "text": [
      "(864863, 74)\n"
     ]
    }
   ],
   "source": [
    "bottle_data = pd.read_csv(\"/Users/HASAN/Desktop/machine learning projects/Water temperature prediction/datasets/bottle.csv\")\n",
    "print(bottle_data.shape)"
   ]
  },
  {
   "cell_type": "code",
   "execution_count": 3,
   "id": "9cfa82ff-ba47-452f-84a0-93f8a56013b5",
   "metadata": {},
   "outputs": [
    {
     "data": {
      "text/html": [
       "<div>\n",
       "<style scoped>\n",
       "    .dataframe tbody tr th:only-of-type {\n",
       "        vertical-align: middle;\n",
       "    }\n",
       "\n",
       "    .dataframe tbody tr th {\n",
       "        vertical-align: top;\n",
       "    }\n",
       "\n",
       "    .dataframe thead th {\n",
       "        text-align: right;\n",
       "    }\n",
       "</style>\n",
       "<table border=\"1\" class=\"dataframe\">\n",
       "  <thead>\n",
       "    <tr style=\"text-align: right;\">\n",
       "      <th></th>\n",
       "      <th>Cst_Cnt</th>\n",
       "      <th>Sta_ID</th>\n",
       "      <th>Depth_ID</th>\n",
       "      <th>Depthm</th>\n",
       "      <th>T_degC</th>\n",
       "      <th>Salnty</th>\n",
       "      <th>O2ml_L</th>\n",
       "      <th>STheta</th>\n",
       "      <th>O2Sat</th>\n",
       "      <th>Oxy_µmol/Kg</th>\n",
       "      <th>...</th>\n",
       "      <th>R_PHAEO</th>\n",
       "      <th>R_PRES</th>\n",
       "      <th>R_SAMP</th>\n",
       "      <th>DIC1</th>\n",
       "      <th>DIC2</th>\n",
       "      <th>TA1</th>\n",
       "      <th>TA2</th>\n",
       "      <th>pH2</th>\n",
       "      <th>pH1</th>\n",
       "      <th>DIC Quality Comment</th>\n",
       "    </tr>\n",
       "    <tr>\n",
       "      <th>Btl_Cnt</th>\n",
       "      <th></th>\n",
       "      <th></th>\n",
       "      <th></th>\n",
       "      <th></th>\n",
       "      <th></th>\n",
       "      <th></th>\n",
       "      <th></th>\n",
       "      <th></th>\n",
       "      <th></th>\n",
       "      <th></th>\n",
       "      <th></th>\n",
       "      <th></th>\n",
       "      <th></th>\n",
       "      <th></th>\n",
       "      <th></th>\n",
       "      <th></th>\n",
       "      <th></th>\n",
       "      <th></th>\n",
       "      <th></th>\n",
       "      <th></th>\n",
       "      <th></th>\n",
       "    </tr>\n",
       "  </thead>\n",
       "  <tbody>\n",
       "    <tr>\n",
       "      <th>1</th>\n",
       "      <td>1</td>\n",
       "      <td>054.0 056.0</td>\n",
       "      <td>19-4903CR-HY-060-0930-05400560-0000A-3</td>\n",
       "      <td>0</td>\n",
       "      <td>10.50</td>\n",
       "      <td>33.440</td>\n",
       "      <td>NaN</td>\n",
       "      <td>25.649</td>\n",
       "      <td>NaN</td>\n",
       "      <td>NaN</td>\n",
       "      <td>...</td>\n",
       "      <td>NaN</td>\n",
       "      <td>0</td>\n",
       "      <td>NaN</td>\n",
       "      <td>NaN</td>\n",
       "      <td>NaN</td>\n",
       "      <td>NaN</td>\n",
       "      <td>NaN</td>\n",
       "      <td>NaN</td>\n",
       "      <td>NaN</td>\n",
       "      <td>NaN</td>\n",
       "    </tr>\n",
       "    <tr>\n",
       "      <th>2</th>\n",
       "      <td>1</td>\n",
       "      <td>054.0 056.0</td>\n",
       "      <td>19-4903CR-HY-060-0930-05400560-0008A-3</td>\n",
       "      <td>8</td>\n",
       "      <td>10.46</td>\n",
       "      <td>33.440</td>\n",
       "      <td>NaN</td>\n",
       "      <td>25.656</td>\n",
       "      <td>NaN</td>\n",
       "      <td>NaN</td>\n",
       "      <td>...</td>\n",
       "      <td>NaN</td>\n",
       "      <td>8</td>\n",
       "      <td>NaN</td>\n",
       "      <td>NaN</td>\n",
       "      <td>NaN</td>\n",
       "      <td>NaN</td>\n",
       "      <td>NaN</td>\n",
       "      <td>NaN</td>\n",
       "      <td>NaN</td>\n",
       "      <td>NaN</td>\n",
       "    </tr>\n",
       "    <tr>\n",
       "      <th>3</th>\n",
       "      <td>1</td>\n",
       "      <td>054.0 056.0</td>\n",
       "      <td>19-4903CR-HY-060-0930-05400560-0010A-7</td>\n",
       "      <td>10</td>\n",
       "      <td>10.46</td>\n",
       "      <td>33.437</td>\n",
       "      <td>NaN</td>\n",
       "      <td>25.654</td>\n",
       "      <td>NaN</td>\n",
       "      <td>NaN</td>\n",
       "      <td>...</td>\n",
       "      <td>NaN</td>\n",
       "      <td>10</td>\n",
       "      <td>NaN</td>\n",
       "      <td>NaN</td>\n",
       "      <td>NaN</td>\n",
       "      <td>NaN</td>\n",
       "      <td>NaN</td>\n",
       "      <td>NaN</td>\n",
       "      <td>NaN</td>\n",
       "      <td>NaN</td>\n",
       "    </tr>\n",
       "    <tr>\n",
       "      <th>4</th>\n",
       "      <td>1</td>\n",
       "      <td>054.0 056.0</td>\n",
       "      <td>19-4903CR-HY-060-0930-05400560-0019A-3</td>\n",
       "      <td>19</td>\n",
       "      <td>10.45</td>\n",
       "      <td>33.420</td>\n",
       "      <td>NaN</td>\n",
       "      <td>25.643</td>\n",
       "      <td>NaN</td>\n",
       "      <td>NaN</td>\n",
       "      <td>...</td>\n",
       "      <td>NaN</td>\n",
       "      <td>19</td>\n",
       "      <td>NaN</td>\n",
       "      <td>NaN</td>\n",
       "      <td>NaN</td>\n",
       "      <td>NaN</td>\n",
       "      <td>NaN</td>\n",
       "      <td>NaN</td>\n",
       "      <td>NaN</td>\n",
       "      <td>NaN</td>\n",
       "    </tr>\n",
       "    <tr>\n",
       "      <th>5</th>\n",
       "      <td>1</td>\n",
       "      <td>054.0 056.0</td>\n",
       "      <td>19-4903CR-HY-060-0930-05400560-0020A-7</td>\n",
       "      <td>20</td>\n",
       "      <td>10.45</td>\n",
       "      <td>33.421</td>\n",
       "      <td>NaN</td>\n",
       "      <td>25.643</td>\n",
       "      <td>NaN</td>\n",
       "      <td>NaN</td>\n",
       "      <td>...</td>\n",
       "      <td>NaN</td>\n",
       "      <td>20</td>\n",
       "      <td>NaN</td>\n",
       "      <td>NaN</td>\n",
       "      <td>NaN</td>\n",
       "      <td>NaN</td>\n",
       "      <td>NaN</td>\n",
       "      <td>NaN</td>\n",
       "      <td>NaN</td>\n",
       "      <td>NaN</td>\n",
       "    </tr>\n",
       "  </tbody>\n",
       "</table>\n",
       "<p>5 rows × 73 columns</p>\n",
       "</div>"
      ],
      "text/plain": [
       "         Cst_Cnt       Sta_ID                                Depth_ID  Depthm  \\\n",
       "Btl_Cnt                                                                         \n",
       "1              1  054.0 056.0  19-4903CR-HY-060-0930-05400560-0000A-3       0   \n",
       "2              1  054.0 056.0  19-4903CR-HY-060-0930-05400560-0008A-3       8   \n",
       "3              1  054.0 056.0  19-4903CR-HY-060-0930-05400560-0010A-7      10   \n",
       "4              1  054.0 056.0  19-4903CR-HY-060-0930-05400560-0019A-3      19   \n",
       "5              1  054.0 056.0  19-4903CR-HY-060-0930-05400560-0020A-7      20   \n",
       "\n",
       "         T_degC  Salnty  O2ml_L  STheta  O2Sat  Oxy_µmol/Kg  ...  R_PHAEO  \\\n",
       "Btl_Cnt                                                      ...            \n",
       "1         10.50  33.440     NaN  25.649    NaN          NaN  ...      NaN   \n",
       "2         10.46  33.440     NaN  25.656    NaN          NaN  ...      NaN   \n",
       "3         10.46  33.437     NaN  25.654    NaN          NaN  ...      NaN   \n",
       "4         10.45  33.420     NaN  25.643    NaN          NaN  ...      NaN   \n",
       "5         10.45  33.421     NaN  25.643    NaN          NaN  ...      NaN   \n",
       "\n",
       "         R_PRES  R_SAMP  DIC1  DIC2  TA1  TA2  pH2  pH1  DIC Quality Comment  \n",
       "Btl_Cnt                                                                       \n",
       "1             0     NaN   NaN   NaN  NaN  NaN  NaN  NaN                  NaN  \n",
       "2             8     NaN   NaN   NaN  NaN  NaN  NaN  NaN                  NaN  \n",
       "3            10     NaN   NaN   NaN  NaN  NaN  NaN  NaN                  NaN  \n",
       "4            19     NaN   NaN   NaN  NaN  NaN  NaN  NaN                  NaN  \n",
       "5            20     NaN   NaN   NaN  NaN  NaN  NaN  NaN                  NaN  \n",
       "\n",
       "[5 rows x 73 columns]"
      ]
     },
     "execution_count": 3,
     "metadata": {},
     "output_type": "execute_result"
    }
   ],
   "source": [
    "bottle_data = bottle_data.set_index(\"Btl_Cnt\")\n",
    "bottle_data.head()"
   ]
  },
  {
   "cell_type": "markdown",
   "id": "37217342-1558-418e-af64-76d7ea08e56c",
   "metadata": {},
   "source": [
    "**delete unnecessary columns**"
   ]
  },
  {
   "cell_type": "code",
   "execution_count": 4,
   "id": "1236b622-e36a-44e1-8650-98011084e66c",
   "metadata": {},
   "outputs": [],
   "source": [
    "columns_to_drop = [\"Cst_Cnt\", \"Sta_ID\", \"Depth_ID\"]\n",
    "bottle_data = bottle_data.drop(columns=columns_to_drop)"
   ]
  },
  {
   "cell_type": "code",
   "execution_count": 5,
   "id": "4d676af7-13cd-463b-9055-a815de901da3",
   "metadata": {},
   "outputs": [
    {
     "name": "stdout",
     "output_type": "stream",
     "text": [
      "(864863, 70)\n"
     ]
    },
    {
     "data": {
      "text/html": [
       "<div>\n",
       "<style scoped>\n",
       "    .dataframe tbody tr th:only-of-type {\n",
       "        vertical-align: middle;\n",
       "    }\n",
       "\n",
       "    .dataframe tbody tr th {\n",
       "        vertical-align: top;\n",
       "    }\n",
       "\n",
       "    .dataframe thead th {\n",
       "        text-align: right;\n",
       "    }\n",
       "</style>\n",
       "<table border=\"1\" class=\"dataframe\">\n",
       "  <thead>\n",
       "    <tr style=\"text-align: right;\">\n",
       "      <th></th>\n",
       "      <th>Depthm</th>\n",
       "      <th>T_degC</th>\n",
       "      <th>Salnty</th>\n",
       "      <th>O2ml_L</th>\n",
       "      <th>STheta</th>\n",
       "      <th>O2Sat</th>\n",
       "      <th>Oxy_µmol/Kg</th>\n",
       "      <th>BtlNum</th>\n",
       "      <th>RecInd</th>\n",
       "      <th>T_prec</th>\n",
       "      <th>...</th>\n",
       "      <th>R_PHAEO</th>\n",
       "      <th>R_PRES</th>\n",
       "      <th>R_SAMP</th>\n",
       "      <th>DIC1</th>\n",
       "      <th>DIC2</th>\n",
       "      <th>TA1</th>\n",
       "      <th>TA2</th>\n",
       "      <th>pH2</th>\n",
       "      <th>pH1</th>\n",
       "      <th>DIC Quality Comment</th>\n",
       "    </tr>\n",
       "    <tr>\n",
       "      <th>Btl_Cnt</th>\n",
       "      <th></th>\n",
       "      <th></th>\n",
       "      <th></th>\n",
       "      <th></th>\n",
       "      <th></th>\n",
       "      <th></th>\n",
       "      <th></th>\n",
       "      <th></th>\n",
       "      <th></th>\n",
       "      <th></th>\n",
       "      <th></th>\n",
       "      <th></th>\n",
       "      <th></th>\n",
       "      <th></th>\n",
       "      <th></th>\n",
       "      <th></th>\n",
       "      <th></th>\n",
       "      <th></th>\n",
       "      <th></th>\n",
       "      <th></th>\n",
       "      <th></th>\n",
       "    </tr>\n",
       "  </thead>\n",
       "  <tbody>\n",
       "    <tr>\n",
       "      <th>1</th>\n",
       "      <td>0</td>\n",
       "      <td>10.50</td>\n",
       "      <td>33.440</td>\n",
       "      <td>NaN</td>\n",
       "      <td>25.649</td>\n",
       "      <td>NaN</td>\n",
       "      <td>NaN</td>\n",
       "      <td>NaN</td>\n",
       "      <td>3</td>\n",
       "      <td>1.0</td>\n",
       "      <td>...</td>\n",
       "      <td>NaN</td>\n",
       "      <td>0</td>\n",
       "      <td>NaN</td>\n",
       "      <td>NaN</td>\n",
       "      <td>NaN</td>\n",
       "      <td>NaN</td>\n",
       "      <td>NaN</td>\n",
       "      <td>NaN</td>\n",
       "      <td>NaN</td>\n",
       "      <td>NaN</td>\n",
       "    </tr>\n",
       "    <tr>\n",
       "      <th>2</th>\n",
       "      <td>8</td>\n",
       "      <td>10.46</td>\n",
       "      <td>33.440</td>\n",
       "      <td>NaN</td>\n",
       "      <td>25.656</td>\n",
       "      <td>NaN</td>\n",
       "      <td>NaN</td>\n",
       "      <td>NaN</td>\n",
       "      <td>3</td>\n",
       "      <td>2.0</td>\n",
       "      <td>...</td>\n",
       "      <td>NaN</td>\n",
       "      <td>8</td>\n",
       "      <td>NaN</td>\n",
       "      <td>NaN</td>\n",
       "      <td>NaN</td>\n",
       "      <td>NaN</td>\n",
       "      <td>NaN</td>\n",
       "      <td>NaN</td>\n",
       "      <td>NaN</td>\n",
       "      <td>NaN</td>\n",
       "    </tr>\n",
       "    <tr>\n",
       "      <th>3</th>\n",
       "      <td>10</td>\n",
       "      <td>10.46</td>\n",
       "      <td>33.437</td>\n",
       "      <td>NaN</td>\n",
       "      <td>25.654</td>\n",
       "      <td>NaN</td>\n",
       "      <td>NaN</td>\n",
       "      <td>NaN</td>\n",
       "      <td>7</td>\n",
       "      <td>2.0</td>\n",
       "      <td>...</td>\n",
       "      <td>NaN</td>\n",
       "      <td>10</td>\n",
       "      <td>NaN</td>\n",
       "      <td>NaN</td>\n",
       "      <td>NaN</td>\n",
       "      <td>NaN</td>\n",
       "      <td>NaN</td>\n",
       "      <td>NaN</td>\n",
       "      <td>NaN</td>\n",
       "      <td>NaN</td>\n",
       "    </tr>\n",
       "    <tr>\n",
       "      <th>4</th>\n",
       "      <td>19</td>\n",
       "      <td>10.45</td>\n",
       "      <td>33.420</td>\n",
       "      <td>NaN</td>\n",
       "      <td>25.643</td>\n",
       "      <td>NaN</td>\n",
       "      <td>NaN</td>\n",
       "      <td>NaN</td>\n",
       "      <td>3</td>\n",
       "      <td>2.0</td>\n",
       "      <td>...</td>\n",
       "      <td>NaN</td>\n",
       "      <td>19</td>\n",
       "      <td>NaN</td>\n",
       "      <td>NaN</td>\n",
       "      <td>NaN</td>\n",
       "      <td>NaN</td>\n",
       "      <td>NaN</td>\n",
       "      <td>NaN</td>\n",
       "      <td>NaN</td>\n",
       "      <td>NaN</td>\n",
       "    </tr>\n",
       "    <tr>\n",
       "      <th>5</th>\n",
       "      <td>20</td>\n",
       "      <td>10.45</td>\n",
       "      <td>33.421</td>\n",
       "      <td>NaN</td>\n",
       "      <td>25.643</td>\n",
       "      <td>NaN</td>\n",
       "      <td>NaN</td>\n",
       "      <td>NaN</td>\n",
       "      <td>7</td>\n",
       "      <td>2.0</td>\n",
       "      <td>...</td>\n",
       "      <td>NaN</td>\n",
       "      <td>20</td>\n",
       "      <td>NaN</td>\n",
       "      <td>NaN</td>\n",
       "      <td>NaN</td>\n",
       "      <td>NaN</td>\n",
       "      <td>NaN</td>\n",
       "      <td>NaN</td>\n",
       "      <td>NaN</td>\n",
       "      <td>NaN</td>\n",
       "    </tr>\n",
       "  </tbody>\n",
       "</table>\n",
       "<p>5 rows × 70 columns</p>\n",
       "</div>"
      ],
      "text/plain": [
       "         Depthm  T_degC  Salnty  O2ml_L  STheta  O2Sat  Oxy_µmol/Kg  BtlNum  \\\n",
       "Btl_Cnt                                                                       \n",
       "1             0   10.50  33.440     NaN  25.649    NaN          NaN     NaN   \n",
       "2             8   10.46  33.440     NaN  25.656    NaN          NaN     NaN   \n",
       "3            10   10.46  33.437     NaN  25.654    NaN          NaN     NaN   \n",
       "4            19   10.45  33.420     NaN  25.643    NaN          NaN     NaN   \n",
       "5            20   10.45  33.421     NaN  25.643    NaN          NaN     NaN   \n",
       "\n",
       "         RecInd  T_prec  ...  R_PHAEO  R_PRES  R_SAMP  DIC1  DIC2  TA1  TA2  \\\n",
       "Btl_Cnt                  ...                                                  \n",
       "1             3     1.0  ...      NaN       0     NaN   NaN   NaN  NaN  NaN   \n",
       "2             3     2.0  ...      NaN       8     NaN   NaN   NaN  NaN  NaN   \n",
       "3             7     2.0  ...      NaN      10     NaN   NaN   NaN  NaN  NaN   \n",
       "4             3     2.0  ...      NaN      19     NaN   NaN   NaN  NaN  NaN   \n",
       "5             7     2.0  ...      NaN      20     NaN   NaN   NaN  NaN  NaN   \n",
       "\n",
       "         pH2  pH1  DIC Quality Comment  \n",
       "Btl_Cnt                                 \n",
       "1        NaN  NaN                  NaN  \n",
       "2        NaN  NaN                  NaN  \n",
       "3        NaN  NaN                  NaN  \n",
       "4        NaN  NaN                  NaN  \n",
       "5        NaN  NaN                  NaN  \n",
       "\n",
       "[5 rows x 70 columns]"
      ]
     },
     "execution_count": 5,
     "metadata": {},
     "output_type": "execute_result"
    }
   ],
   "source": [
    "print(bottle_data.shape)\n",
    "bottle_data.head()"
   ]
  },
  {
   "cell_type": "markdown",
   "id": "af1815ce-7af3-423a-b8d0-8f2d14de582c",
   "metadata": {},
   "source": [
    "**3. Dimensionality reduction**"
   ]
  },
  {
   "cell_type": "markdown",
   "id": "bd851ab0-eef0-411a-b87c-54249e6e3d1f",
   "metadata": {},
   "source": [
    "Dimensionality reduction steps will be as following:  \n",
    "1. remove all coulmns that have missing values more than 10% of their values.\n",
    "2. remove all rows that have missing values in thier T_degC coulumn cause it is the value that we want to train our model to predict it and it cannot be a missing value.\n",
    "3. remove all rows that have missing values more that 75% of their values.\n",
    "4. remove all features (columns) that have weak correlation with the temperature of water."
   ]
  },
  {
   "cell_type": "markdown",
   "id": "aab06df1-ca8b-4d9f-9b23-fc8275d6dc78",
   "metadata": {},
   "source": [
    "**A. remove all coulmns that have missing values more than 10% of their values**"
   ]
  },
  {
   "cell_type": "code",
   "execution_count": 6,
   "id": "47958832-018e-49e0-991c-84edf9e1a77d",
   "metadata": {},
   "outputs": [
    {
     "name": "stdout",
     "output_type": "stream",
     "text": [
      "feature         null/all_values ratio\n",
      "Depthm\t\t0.0\n",
      "T_degC\t\t0.012675996082616553\n",
      "Salnty\t\t0.054753180561545586\n",
      "O2ml_L\t\t0.19501585800294383\n",
      "STheta\t\t0.06092178761260454\n",
      "O2Sat\t\t0.2354002888318728\n",
      "Oxy_µmol/Kg\t\t0.2354072263468318\n",
      "BtlNum\t\t0.8627909853930622\n",
      "RecInd\t\t0.0\n",
      "T_prec\t\t0.012675996082616553\n",
      "T_qual\t\t0.9732593485904704\n",
      "S_prec\t\t0.054753180561545586\n",
      "S_qual\t\t0.9133805007267047\n",
      "P_qual\t\t0.22096910146462503\n",
      "O_qual\t\t0.7864679145714408\n",
      "SThtaq\t\t0.923891992142108\n",
      "O2Satq\t\t0.7481716757451758\n",
      "ChlorA\t\t0.7395286883587343\n",
      "Chlqua\t\t0.26096271895086276\n",
      "Phaeop\t\t0.7395298446112274\n",
      "Phaqua\t\t0.26095809394089003\n",
      "PO4uM\t\t0.5221011882806872\n",
      "PO4q\t\t0.47762131112095213\n",
      "SiO3uM\t\t0.5905813984411404\n",
      "SiO3qu\t\t0.40930991382450166\n",
      "NO2uM\t\t0.6096769083658337\n",
      "NO2q\t\t0.3877943674316048\n",
      "NO3uM\t\t0.609876940047152\n",
      "NO3q\t\t0.38726364753724\n",
      "NH3uM\t\t0.924887525538727\n",
      "NH3q\t\t0.06540226602363611\n",
      "C14As1\t\t0.9833129640185787\n",
      "C14A1p\t\t0.985246218187158\n",
      "C14A1q\t\t0.01879835303394873\n",
      "C14As2\t\t0.9833337765634557\n",
      "C14A2p\t\t0.985267030732035\n",
      "C14A2q\t\t0.01877754048907168\n",
      "DarkAs\t\t0.9738120372822054\n",
      "DarkAp\t\t0.9763465427472328\n",
      "DarkAq\t\t0.028239154640677194\n",
      "MeanAs\t\t0.9738108810297122\n",
      "MeanAp\t\t0.9763465427472328\n",
      "MeanAq\t\t0.02824031089317036\n",
      "IncTim\t\t0.9833071827561128\n",
      "LightP\t\t0.9784347347498968\n",
      "R_Depth\t\t0.0\n",
      "R_TEMP\t\t0.012675996082616553\n",
      "R_POTEMP\t\t0.05324195855297313\n",
      "R_SALINITY\t\t0.054753180561545586\n",
      "R_SIGMA\t\t0.061114881778963834\n",
      "R_SVA\t\t0.06101660031704444\n",
      "R_DYNHT\t\t0.053947272573806486\n",
      "R_O2\t\t0.19501585800294383\n",
      "R_O2Sat\t\t0.2294178384322141\n",
      "R_SIO3\t\t0.590572148421195\n",
      "R_PO4\t\t0.5220919382607419\n",
      "R_NO3\t\t0.6098676900272066\n",
      "R_NO2\t\t0.6096676583458883\n",
      "R_NH4\t\t0.9248644004888635\n",
      "R_CHLA\t\t0.7395240633487616\n",
      "R_PHAEO\t\t0.7395252196012547\n",
      "R_PRES\t\t0.0\n",
      "R_SAMP\t\t0.8589302583183694\n",
      "DIC1\t\t0.9976886512661542\n",
      "DIC2\t\t0.99974099944153\n",
      "TA1\t\t0.9975903698042349\n",
      "TA2\t\t0.9997294369165983\n",
      "pH2\t\t0.9999884374750683\n",
      "pH1\t\t0.9999028747905737\n",
      "DIC Quality Comment\t\t0.9999364061128757\n"
     ]
    }
   ],
   "source": [
    "null_counts_ratio = bottle_data.isnull().sum() / bottle_data.shape[0]\n",
    "print(\"feature         null/all_values ratio\")\n",
    "for feature, value in null_counts_ratio.items():\n",
    "    print(feature, value, sep=\"\\t\\t\")"
   ]
  },
  {
   "cell_type": "code",
   "execution_count": 7,
   "id": "3940e85f-1bc3-47b3-ad25-27c3b6d13f2c",
   "metadata": {
    "scrolled": false
   },
   "outputs": [
    {
     "data": {
      "image/png": "[encoded data removed]",
      "text/plain": [
       "<Figure size 2000x2000 with 1 Axes>"
      ]
     },
     "metadata": {},
     "output_type": "display_data"
    }
   ],
   "source": [
    "# plot null ration in each column to set the appropriate threshold\n",
    "plt.figure(figsize=(10, 10), dpi=200)\n",
    "plt.bar(bottle_data.columns.tolist(), null_counts_ratio)\n",
    "plt.title(\"Null Ratio In Each Feature\", fontsize=18)\n",
    "plt.xlabel(\"Features\")\n",
    "plt.ylabel(\"Null_Ratio\")\n",
    "plt.xticks(rotation=80, fontsize=7)\n",
    "plt.yticks([0.01, 0.02, 0.03, 0.05, 0.1, 0.2, 0.5, 1], fontsize=5)\n",
    "plt.show()"
   ]
  },
  {
   "cell_type": "markdown",
   "id": "19d9181f-5e4a-40a4-9aa5-ccdefd66cd6a",
   "metadata": {},
   "source": [
    "according to the previous graph, I chose to selete all features that have missing values (NaN) more than 10% of their values."
   ]
  },
  {
   "cell_type": "code",
   "execution_count": 8,
   "id": "a9a36717-ce5b-47f4-a794-961482c7bc72",
   "metadata": {},
   "outputs": [
    {
     "data": {
      "text/plain": [
       "(50,)"
      ]
     },
     "execution_count": 8,
     "metadata": {},
     "output_type": "execute_result"
    }
   ],
   "source": [
    "null_counts_ratio[null_counts_ratio > 0.1].shape"
   ]
  },
  {
   "cell_type": "markdown",
   "id": "4d8b2d45-6540-4ae7-acd9-fbb405900ad3",
   "metadata": {},
   "source": [
    "As we see, 50 features have missing values more than 10% of their values so I will delete these columns in the next preprocessing step."
   ]
  },
  {
   "cell_type": "code",
   "execution_count": 9,
   "id": "52b055d6-c08f-4540-9fad-60ce59d3a795",
   "metadata": {},
   "outputs": [
    {
     "name": "stdout",
     "output_type": "stream",
     "text": [
      "features names that should be deleted are: \n"
     ]
    },
    {
     "data": {
      "text/plain": [
       "['O2ml_L',\n",
       " 'O2Sat',\n",
       " 'Oxy_µmol/Kg',\n",
       " 'BtlNum',\n",
       " 'T_qual',\n",
       " 'S_qual',\n",
       " 'P_qual',\n",
       " 'O_qual',\n",
       " 'SThtaq',\n",
       " 'O2Satq',\n",
       " 'ChlorA',\n",
       " 'Chlqua',\n",
       " 'Phaeop',\n",
       " 'Phaqua',\n",
       " 'PO4uM',\n",
       " 'PO4q',\n",
       " 'SiO3uM',\n",
       " 'SiO3qu',\n",
       " 'NO2uM',\n",
       " 'NO2q',\n",
       " 'NO3uM',\n",
       " 'NO3q',\n",
       " 'NH3uM',\n",
       " 'C14As1',\n",
       " 'C14A1p',\n",
       " 'C14As2',\n",
       " 'C14A2p',\n",
       " 'DarkAs',\n",
       " 'DarkAp',\n",
       " 'MeanAs',\n",
       " 'MeanAp',\n",
       " 'IncTim',\n",
       " 'LightP',\n",
       " 'R_O2',\n",
       " 'R_O2Sat',\n",
       " 'R_SIO3',\n",
       " 'R_PO4',\n",
       " 'R_NO3',\n",
       " 'R_NO2',\n",
       " 'R_NH4',\n",
       " 'R_CHLA',\n",
       " 'R_PHAEO',\n",
       " 'R_SAMP',\n",
       " 'DIC1',\n",
       " 'DIC2',\n",
       " 'TA1',\n",
       " 'TA2',\n",
       " 'pH2',\n",
       " 'pH1',\n",
       " 'DIC Quality Comment']"
      ]
     },
     "execution_count": 9,
     "metadata": {},
     "output_type": "execute_result"
    }
   ],
   "source": [
    "columns_to_drop = [feature for feature, null_ratio in null_counts_ratio.items() if null_ratio > 0.1]\n",
    "print(\"features names that should be deleted are: \")\n",
    "columns_to_drop"
   ]
  },
  {
   "cell_type": "code",
   "execution_count": 10,
   "id": "f281d5c5-9716-4e2f-a3d3-c5727a3d8245",
   "metadata": {},
   "outputs": [
    {
     "data": {
      "text/plain": [
       "(864863, 20)"
      ]
     },
     "execution_count": 10,
     "metadata": {},
     "output_type": "execute_result"
    }
   ],
   "source": [
    "# delete these features from the data set\n",
    "bottle_data = bottle_data.drop(columns=columns_to_drop)\n",
    "bottle_data.shape"
   ]
  },
  {
   "cell_type": "markdown",
   "id": "f209f225-3350-4bf8-9e18-bfa0fe35a231",
   "metadata": {},
   "source": [
    "As we can see in the previous output that number of remaining features is 20, **_Note:_** one of them is water temperature and the rest are the potential features that hopefully there is a good correlation between them and water temperature."
   ]
  },
  {
   "cell_type": "markdown",
   "id": "f72ab405-b297-404b-a7f6-eb08172ec5a3",
   "metadata": {},
   "source": [
    "**B. remove all rows that have missing values in thier T_degC coulumn**"
   ]
  },
  {
   "cell_type": "code",
   "execution_count": 11,
   "id": "c564914a-93e1-4070-ac36-ae1e69488565",
   "metadata": {},
   "outputs": [
    {
     "data": {
      "text/plain": [
       "(853900, 20)"
      ]
     },
     "execution_count": 11,
     "metadata": {},
     "output_type": "execute_result"
    }
   ],
   "source": [
    "bottle_data = bottle_data.dropna(subset=\"T_degC\")\n",
    "bottle_data.shape"
   ]
  },
  {
   "cell_type": "markdown",
   "id": "08b6e43d-ed6f-4682-9c2d-958844b005fc",
   "metadata": {},
   "source": [
    "As we can see in the previous output, I deleted around 10k rows cause they have missing values in the T_degC cell."
   ]
  },
  {
   "cell_type": "markdown",
   "id": "1ac7ec8a-8457-4f70-85ed-7f41c0c4fb4a",
   "metadata": {},
   "source": [
    "**C. remove all rows that have missing values more that 30% of their values**"
   ]
  },
  {
   "cell_type": "code",
   "execution_count": 12,
   "id": "8463b140-1d48-40ea-9e06-619855a94d2e",
   "metadata": {},
   "outputs": [
    {
     "data": {
      "text/plain": [
       "Btl_Cnt\n",
       "1         0.00\n",
       "2         0.00\n",
       "3         0.00\n",
       "4         0.00\n",
       "5         0.00\n",
       "          ... \n",
       "864859    0.05\n",
       "864860    0.00\n",
       "864861    0.00\n",
       "864862    0.05\n",
       "864863    0.05\n",
       "Length: 853900, dtype: float64"
      ]
     },
     "execution_count": 12,
     "metadata": {},
     "output_type": "execute_result"
    }
   ],
   "source": [
    "rows_null_ratio = bottle_data.isnull().sum(axis=1) / bottle_data.shape[1]\n",
    "rows_null_ratio"
   ]
  },
  {
   "cell_type": "code",
   "execution_count": 13,
   "id": "0c3f75d6-9802-4cbb-8263-87e422114585",
   "metadata": {},
   "outputs": [
    {
     "name": "stdout",
     "output_type": "stream",
     "text": [
      "56738\n"
     ]
    }
   ],
   "source": [
    "rows_to_drop = [index for index, null_ratio in rows_null_ratio.items() if null_ratio > 0.1]\n",
    "print(len(rows_to_drop))"
   ]
  },
  {
   "cell_type": "code",
   "execution_count": 14,
   "id": "5e5dc42c-5f37-40b1-95ef-007d2485691a",
   "metadata": {},
   "outputs": [
    {
     "name": "stdout",
     "output_type": "stream",
     "text": [
      "(797162, 20)\n"
     ]
    },
    {
     "data": {
      "text/html": [
       "<div>\n",
       "<style scoped>\n",
       "    .dataframe tbody tr th:only-of-type {\n",
       "        vertical-align: middle;\n",
       "    }\n",
       "\n",
       "    .dataframe tbody tr th {\n",
       "        vertical-align: top;\n",
       "    }\n",
       "\n",
       "    .dataframe thead th {\n",
       "        text-align: right;\n",
       "    }\n",
       "</style>\n",
       "<table border=\"1\" class=\"dataframe\">\n",
       "  <thead>\n",
       "    <tr style=\"text-align: right;\">\n",
       "      <th></th>\n",
       "      <th>Depthm</th>\n",
       "      <th>T_degC</th>\n",
       "      <th>Salnty</th>\n",
       "      <th>STheta</th>\n",
       "      <th>RecInd</th>\n",
       "      <th>T_prec</th>\n",
       "      <th>S_prec</th>\n",
       "      <th>NH3q</th>\n",
       "      <th>C14A1q</th>\n",
       "      <th>C14A2q</th>\n",
       "      <th>DarkAq</th>\n",
       "      <th>MeanAq</th>\n",
       "      <th>R_Depth</th>\n",
       "      <th>R_TEMP</th>\n",
       "      <th>R_POTEMP</th>\n",
       "      <th>R_SALINITY</th>\n",
       "      <th>R_SIGMA</th>\n",
       "      <th>R_SVA</th>\n",
       "      <th>R_DYNHT</th>\n",
       "      <th>R_PRES</th>\n",
       "    </tr>\n",
       "    <tr>\n",
       "      <th>Btl_Cnt</th>\n",
       "      <th></th>\n",
       "      <th></th>\n",
       "      <th></th>\n",
       "      <th></th>\n",
       "      <th></th>\n",
       "      <th></th>\n",
       "      <th></th>\n",
       "      <th></th>\n",
       "      <th></th>\n",
       "      <th></th>\n",
       "      <th></th>\n",
       "      <th></th>\n",
       "      <th></th>\n",
       "      <th></th>\n",
       "      <th></th>\n",
       "      <th></th>\n",
       "      <th></th>\n",
       "      <th></th>\n",
       "      <th></th>\n",
       "      <th></th>\n",
       "    </tr>\n",
       "  </thead>\n",
       "  <tbody>\n",
       "    <tr>\n",
       "      <th>1</th>\n",
       "      <td>0</td>\n",
       "      <td>10.50</td>\n",
       "      <td>33.440</td>\n",
       "      <td>25.649</td>\n",
       "      <td>3</td>\n",
       "      <td>1.0</td>\n",
       "      <td>2.0</td>\n",
       "      <td>9.0</td>\n",
       "      <td>9.0</td>\n",
       "      <td>9.0</td>\n",
       "      <td>9.0</td>\n",
       "      <td>9.0</td>\n",
       "      <td>0.0</td>\n",
       "      <td>10.50</td>\n",
       "      <td>10.50</td>\n",
       "      <td>33.440</td>\n",
       "      <td>25.64</td>\n",
       "      <td>233.0</td>\n",
       "      <td>0.00</td>\n",
       "      <td>0</td>\n",
       "    </tr>\n",
       "    <tr>\n",
       "      <th>2</th>\n",
       "      <td>8</td>\n",
       "      <td>10.46</td>\n",
       "      <td>33.440</td>\n",
       "      <td>25.656</td>\n",
       "      <td>3</td>\n",
       "      <td>2.0</td>\n",
       "      <td>2.0</td>\n",
       "      <td>9.0</td>\n",
       "      <td>9.0</td>\n",
       "      <td>9.0</td>\n",
       "      <td>9.0</td>\n",
       "      <td>9.0</td>\n",
       "      <td>8.0</td>\n",
       "      <td>10.46</td>\n",
       "      <td>10.46</td>\n",
       "      <td>33.440</td>\n",
       "      <td>25.65</td>\n",
       "      <td>232.5</td>\n",
       "      <td>0.01</td>\n",
       "      <td>8</td>\n",
       "    </tr>\n",
       "    <tr>\n",
       "      <th>3</th>\n",
       "      <td>10</td>\n",
       "      <td>10.46</td>\n",
       "      <td>33.437</td>\n",
       "      <td>25.654</td>\n",
       "      <td>7</td>\n",
       "      <td>2.0</td>\n",
       "      <td>3.0</td>\n",
       "      <td>9.0</td>\n",
       "      <td>9.0</td>\n",
       "      <td>9.0</td>\n",
       "      <td>9.0</td>\n",
       "      <td>9.0</td>\n",
       "      <td>10.0</td>\n",
       "      <td>10.46</td>\n",
       "      <td>10.46</td>\n",
       "      <td>33.437</td>\n",
       "      <td>25.65</td>\n",
       "      <td>232.8</td>\n",
       "      <td>0.02</td>\n",
       "      <td>10</td>\n",
       "    </tr>\n",
       "    <tr>\n",
       "      <th>4</th>\n",
       "      <td>19</td>\n",
       "      <td>10.45</td>\n",
       "      <td>33.420</td>\n",
       "      <td>25.643</td>\n",
       "      <td>3</td>\n",
       "      <td>2.0</td>\n",
       "      <td>2.0</td>\n",
       "      <td>9.0</td>\n",
       "      <td>9.0</td>\n",
       "      <td>9.0</td>\n",
       "      <td>9.0</td>\n",
       "      <td>9.0</td>\n",
       "      <td>19.0</td>\n",
       "      <td>10.45</td>\n",
       "      <td>10.45</td>\n",
       "      <td>33.420</td>\n",
       "      <td>25.64</td>\n",
       "      <td>234.1</td>\n",
       "      <td>0.04</td>\n",
       "      <td>19</td>\n",
       "    </tr>\n",
       "    <tr>\n",
       "      <th>5</th>\n",
       "      <td>20</td>\n",
       "      <td>10.45</td>\n",
       "      <td>33.421</td>\n",
       "      <td>25.643</td>\n",
       "      <td>7</td>\n",
       "      <td>2.0</td>\n",
       "      <td>3.0</td>\n",
       "      <td>9.0</td>\n",
       "      <td>9.0</td>\n",
       "      <td>9.0</td>\n",
       "      <td>9.0</td>\n",
       "      <td>9.0</td>\n",
       "      <td>20.0</td>\n",
       "      <td>10.45</td>\n",
       "      <td>10.45</td>\n",
       "      <td>33.421</td>\n",
       "      <td>25.64</td>\n",
       "      <td>234.0</td>\n",
       "      <td>0.04</td>\n",
       "      <td>20</td>\n",
       "    </tr>\n",
       "    <tr>\n",
       "      <th>...</th>\n",
       "      <td>...</td>\n",
       "      <td>...</td>\n",
       "      <td>...</td>\n",
       "      <td>...</td>\n",
       "      <td>...</td>\n",
       "      <td>...</td>\n",
       "      <td>...</td>\n",
       "      <td>...</td>\n",
       "      <td>...</td>\n",
       "      <td>...</td>\n",
       "      <td>...</td>\n",
       "      <td>...</td>\n",
       "      <td>...</td>\n",
       "      <td>...</td>\n",
       "      <td>...</td>\n",
       "      <td>...</td>\n",
       "      <td>...</td>\n",
       "      <td>...</td>\n",
       "      <td>...</td>\n",
       "      <td>...</td>\n",
       "    </tr>\n",
       "    <tr>\n",
       "      <th>20617</th>\n",
       "      <td>200</td>\n",
       "      <td>8.58</td>\n",
       "      <td>33.902</td>\n",
       "      <td>26.328</td>\n",
       "      <td>7</td>\n",
       "      <td>2.0</td>\n",
       "      <td>3.0</td>\n",
       "      <td>9.0</td>\n",
       "      <td>9.0</td>\n",
       "      <td>9.0</td>\n",
       "      <td>9.0</td>\n",
       "      <td>9.0</td>\n",
       "      <td>200.0</td>\n",
       "      <td>8.58</td>\n",
       "      <td>8.56</td>\n",
       "      <td>33.902</td>\n",
       "      <td>26.32</td>\n",
       "      <td>172.4</td>\n",
       "      <td>0.55</td>\n",
       "      <td>201</td>\n",
       "    </tr>\n",
       "    <tr>\n",
       "      <th>20618</th>\n",
       "      <td>228</td>\n",
       "      <td>8.38</td>\n",
       "      <td>33.980</td>\n",
       "      <td>26.420</td>\n",
       "      <td>3</td>\n",
       "      <td>2.0</td>\n",
       "      <td>2.0</td>\n",
       "      <td>9.0</td>\n",
       "      <td>9.0</td>\n",
       "      <td>9.0</td>\n",
       "      <td>9.0</td>\n",
       "      <td>9.0</td>\n",
       "      <td>228.0</td>\n",
       "      <td>8.38</td>\n",
       "      <td>8.36</td>\n",
       "      <td>33.980</td>\n",
       "      <td>26.42</td>\n",
       "      <td>164.2</td>\n",
       "      <td>0.60</td>\n",
       "      <td>229</td>\n",
       "    </tr>\n",
       "    <tr>\n",
       "      <th>20619</th>\n",
       "      <td>250</td>\n",
       "      <td>8.17</td>\n",
       "      <td>34.046</td>\n",
       "      <td>26.503</td>\n",
       "      <td>7</td>\n",
       "      <td>2.0</td>\n",
       "      <td>3.0</td>\n",
       "      <td>9.0</td>\n",
       "      <td>9.0</td>\n",
       "      <td>9.0</td>\n",
       "      <td>9.0</td>\n",
       "      <td>9.0</td>\n",
       "      <td>250.0</td>\n",
       "      <td>8.17</td>\n",
       "      <td>8.14</td>\n",
       "      <td>34.046</td>\n",
       "      <td>26.50</td>\n",
       "      <td>156.5</td>\n",
       "      <td>0.63</td>\n",
       "      <td>251</td>\n",
       "    </tr>\n",
       "    <tr>\n",
       "      <th>20620</th>\n",
       "      <td>300</td>\n",
       "      <td>7.70</td>\n",
       "      <td>34.157</td>\n",
       "      <td>26.660</td>\n",
       "      <td>7</td>\n",
       "      <td>2.0</td>\n",
       "      <td>3.0</td>\n",
       "      <td>9.0</td>\n",
       "      <td>9.0</td>\n",
       "      <td>9.0</td>\n",
       "      <td>9.0</td>\n",
       "      <td>9.0</td>\n",
       "      <td>300.0</td>\n",
       "      <td>7.70</td>\n",
       "      <td>7.67</td>\n",
       "      <td>34.157</td>\n",
       "      <td>26.66</td>\n",
       "      <td>142.3</td>\n",
       "      <td>0.71</td>\n",
       "      <td>302</td>\n",
       "    </tr>\n",
       "    <tr>\n",
       "      <th>20621</th>\n",
       "      <td>302</td>\n",
       "      <td>7.68</td>\n",
       "      <td>34.160</td>\n",
       "      <td>26.666</td>\n",
       "      <td>3</td>\n",
       "      <td>2.0</td>\n",
       "      <td>2.0</td>\n",
       "      <td>9.0</td>\n",
       "      <td>9.0</td>\n",
       "      <td>9.0</td>\n",
       "      <td>9.0</td>\n",
       "      <td>9.0</td>\n",
       "      <td>302.0</td>\n",
       "      <td>7.68</td>\n",
       "      <td>7.65</td>\n",
       "      <td>34.160</td>\n",
       "      <td>26.66</td>\n",
       "      <td>141.8</td>\n",
       "      <td>0.71</td>\n",
       "      <td>304</td>\n",
       "    </tr>\n",
       "  </tbody>\n",
       "</table>\n",
       "<p>20000 rows × 20 columns</p>\n",
       "</div>"
      ],
      "text/plain": [
       "         Depthm  T_degC  Salnty  STheta  RecInd  T_prec  S_prec  NH3q  C14A1q  \\\n",
       "Btl_Cnt                                                                         \n",
       "1             0   10.50  33.440  25.649       3     1.0     2.0   9.0     9.0   \n",
       "2             8   10.46  33.440  25.656       3     2.0     2.0   9.0     9.0   \n",
       "3            10   10.46  33.437  25.654       7     2.0     3.0   9.0     9.0   \n",
       "4            19   10.45  33.420  25.643       3     2.0     2.0   9.0     9.0   \n",
       "5            20   10.45  33.421  25.643       7     2.0     3.0   9.0     9.0   \n",
       "...         ...     ...     ...     ...     ...     ...     ...   ...     ...   \n",
       "20617       200    8.58  33.902  26.328       7     2.0     3.0   9.0     9.0   \n",
       "20618       228    8.38  33.980  26.420       3     2.0     2.0   9.0     9.0   \n",
       "20619       250    8.17  34.046  26.503       7     2.0     3.0   9.0     9.0   \n",
       "20620       300    7.70  34.157  26.660       7     2.0     3.0   9.0     9.0   \n",
       "20621       302    7.68  34.160  26.666       3     2.0     2.0   9.0     9.0   \n",
       "\n",
       "         C14A2q  DarkAq  MeanAq  R_Depth  R_TEMP  R_POTEMP  R_SALINITY  \\\n",
       "Btl_Cnt                                                                  \n",
       "1           9.0     9.0     9.0      0.0   10.50     10.50      33.440   \n",
       "2           9.0     9.0     9.0      8.0   10.46     10.46      33.440   \n",
       "3           9.0     9.0     9.0     10.0   10.46     10.46      33.437   \n",
       "4           9.0     9.0     9.0     19.0   10.45     10.45      33.420   \n",
       "5           9.0     9.0     9.0     20.0   10.45     10.45      33.421   \n",
       "...         ...     ...     ...      ...     ...       ...         ...   \n",
       "20617       9.0     9.0     9.0    200.0    8.58      8.56      33.902   \n",
       "20618       9.0     9.0     9.0    228.0    8.38      8.36      33.980   \n",
       "20619       9.0     9.0     9.0    250.0    8.17      8.14      34.046   \n",
       "20620       9.0     9.0     9.0    300.0    7.70      7.67      34.157   \n",
       "20621       9.0     9.0     9.0    302.0    7.68      7.65      34.160   \n",
       "\n",
       "         R_SIGMA  R_SVA  R_DYNHT  R_PRES  \n",
       "Btl_Cnt                                   \n",
       "1          25.64  233.0     0.00       0  \n",
       "2          25.65  232.5     0.01       8  \n",
       "3          25.65  232.8     0.02      10  \n",
       "4          25.64  234.1     0.04      19  \n",
       "5          25.64  234.0     0.04      20  \n",
       "...          ...    ...      ...     ...  \n",
       "20617      26.32  172.4     0.55     201  \n",
       "20618      26.42  164.2     0.60     229  \n",
       "20619      26.50  156.5     0.63     251  \n",
       "20620      26.66  142.3     0.71     302  \n",
       "20621      26.66  141.8     0.71     304  \n",
       "\n",
       "[20000 rows x 20 columns]"
      ]
     },
     "execution_count": 14,
     "metadata": {},
     "output_type": "execute_result"
    }
   ],
   "source": [
    "bottle_data = bottle_data.drop(rows_to_drop)\n",
    "print(bottle_data.shape)\n",
    "bottle_data.head(20000)"
   ]
  },
  {
   "cell_type": "markdown",
   "id": "64e988b7-b0f0-4cd2-8b25-fb857195cb1e",
   "metadata": {},
   "source": [
    "**D. Remove all features that have weak correlation with the temperature of water**"
   ]
  },
  {
   "cell_type": "code",
   "execution_count": 15,
   "id": "f4b34018-d01c-4732-8ca0-df5285dc3dbb",
   "metadata": {},
   "outputs": [],
   "source": [
    "# substitute the missing values with other values using interpolation approach\n",
    "bottle_data = bottle_data.interpolate()"
   ]
  },
  {
   "cell_type": "code",
   "execution_count": 16,
   "id": "5186af3c-5a3e-441c-b8fb-29ba9d453ac0",
   "metadata": {},
   "outputs": [
    {
     "name": "stdout",
     "output_type": "stream",
     "text": [
      "The remaining features are:  Depthm Salnty STheta RecInd T_prec S_prec NH3q C14A1q C14A2q DarkAq MeanAq R_Depth R_TEMP R_POTEMP R_SALINITY R_SIGMA R_SVA R_DYNHT R_PRES\n"
     ]
    }
   ],
   "source": [
    "features = bottle_data.drop(columns=\"T_degC\").columns.tolist()\n",
    "T_degC = bottle_data[\"T_degC\"].tolist()\n",
    "print(\"The remaining features are: \" ,*features)"
   ]
  },
  {
   "cell_type": "code",
   "execution_count": 17,
   "id": "706409bb-d564-4475-b545-3a934af8baaf",
   "metadata": {},
   "outputs": [
    {
     "data": {
      "text/plain": [
       "(797162, 20)"
      ]
     },
     "execution_count": 17,
     "metadata": {},
     "output_type": "execute_result"
    }
   ],
   "source": [
    "bottle_data.shape"
   ]
  },
  {
   "cell_type": "code",
   "execution_count": 18,
   "id": "2779aa0a-8246-404c-86ab-5ac0b5342af5",
   "metadata": {},
   "outputs": [],
   "source": [
    "correlation, p_value = dict(), dict()\n",
    "for feature in features:\n",
    "    feat = bottle_data[feature].tolist()\n",
    "    corr, p = pearsonr(T_degC, feat)\n",
    "    correlation[feature] = corr\n",
    "    p_value[feature] = p"
   ]
  },
  {
   "cell_type": "code",
   "execution_count": 19,
   "id": "7f0ff14d-a8ce-48c6-b126-a51866830fbb",
   "metadata": {},
   "outputs": [
    {
     "name": "stdout",
     "output_type": "stream",
     "text": [
      "the correlation between each feature and the temperature of water is as following: \n",
      "{'Depthm': -0.6755666290041893, 'Salnty': -0.4987109549368148, 'STheta': -0.8254256026872515, 'RecInd': -0.05805753462166628, 'T_prec': -0.045535135239479406, 'S_prec': -0.04773954306442786, 'NH3q': -0.008468694543042256, 'C14A1q': -0.004262587327594014, 'C14A2q': -0.004262587327594014, 'DarkAq': -0.004335195174184599, 'MeanAq': -0.004262587327594014, 'R_Depth': -0.6755650495695142, 'R_TEMP': 0.9999999911031622, 'R_POTEMP': 0.999952873493463, 'R_SALINITY': -0.49870661339652445, 'R_SIGMA': -0.859419167519432, 'R_SVA': 0.9636969262699118, 'R_DYNHT': -0.7917366381208683, 'R_PRES': -0.6741841202288366}\n"
     ]
    }
   ],
   "source": [
    "print(\"the correlation between each feature and the temperature of water is as following: \")\n",
    "print(correlation)"
   ]
  },
  {
   "cell_type": "code",
   "execution_count": 20,
   "id": "cac9cfd3-8d1b-4dd4-bf1e-9bab8a928714",
   "metadata": {},
   "outputs": [
    {
     "data": {
      "text/plain": [
       "['RecInd', 'T_prec', 'S_prec', 'NH3q', 'C14A1q', 'C14A2q', 'DarkAq', 'MeanAq']"
      ]
     },
     "execution_count": 20,
     "metadata": {},
     "output_type": "execute_result"
    }
   ],
   "source": [
    "features_to_drop = [index for index, corr_value in correlation.items() if corr_value > -0.3 and corr_value < 0.3]\n",
    "features_to_drop"
   ]
  },
  {
   "cell_type": "code",
   "execution_count": 21,
   "id": "68e176f0-8acd-41c4-bca4-7c6c2f0ba9ec",
   "metadata": {},
   "outputs": [
    {
     "data": {
      "text/plain": [
       "(797162, 12)"
      ]
     },
     "execution_count": 21,
     "metadata": {},
     "output_type": "execute_result"
    }
   ],
   "source": [
    "bottle_data = bottle_data.drop(columns=features_to_drop)\n",
    "bottle_data.shape"
   ]
  },
  {
   "cell_type": "markdown",
   "id": "caecbb94-bfcd-4837-a15e-bb88d7826a62",
   "metadata": {},
   "source": [
    "**E. Remove columns that contain the same features but measured by different methods**"
   ]
  },
  {
   "cell_type": "code",
   "execution_count": 22,
   "id": "66145259-e1e1-408d-b24e-e5a8981bc9cf",
   "metadata": {},
   "outputs": [],
   "source": [
    "# features that calculate temperature degree using different methods\n",
    "columns_to_drop = [\"R_TEMP\", \"R_POTEMP\"]\n",
    "# features that calculate Depth and salinity using different methods\n",
    "columns_to_drop += [\"R_Depth\", \"R_SALINITY\"]\n",
    "bottle_data = bottle_data.drop(columns=columns_to_drop)"
   ]
  },
  {
   "cell_type": "markdown",
   "id": "09b23539-b09a-401a-a5a9-9266cc3aa246",
   "metadata": {},
   "source": [
    "**4. Multiple regression model building, training and testing**"
   ]
  },
  {
   "cell_type": "code",
   "execution_count": 23,
   "id": "35ef0f83-af48-4f21-9bcb-9e76c11c3fb7",
   "metadata": {},
   "outputs": [
    {
     "name": "stdout",
     "output_type": "stream",
     "text": [
      "number of features after preprocessing is: 7\n"
     ]
    }
   ],
   "source": [
    "independent_variables = bottle_data.columns.tolist()\n",
    "independent_variables.remove(\"T_degC\")\n",
    "dependent_variables = \"T_degC\"\n",
    "print(\"number of features after preprocessing is:\", len(independent_variables)) "
   ]
  },
  {
   "cell_type": "code",
   "execution_count": 24,
   "id": "e63b6cef-6600-4d0d-b212-8c0c4bbf91b8",
   "metadata": {},
   "outputs": [
    {
     "name": "stdout",
     "output_type": "stream",
     "text": [
      "(797162, 7)\n",
      "(797162,)\n"
     ]
    }
   ],
   "source": [
    "X = bottle_data[independent_variables]\n",
    "Y = bottle_data[\"T_degC\"]\n",
    "print(X.shape)\n",
    "print(Y.shape)"
   ]
  },
  {
   "cell_type": "code",
   "execution_count": 25,
   "id": "9b48435c-8af6-4cb8-8873-9a36595700f0",
   "metadata": {},
   "outputs": [],
   "source": [
    "X_train, X_test,  Y_train, Y_test = train_test_split(X, Y, test_size=0.2, random_state=39)"
   ]
  },
  {
   "cell_type": "code",
   "execution_count": 26,
   "id": "85727a21-49c2-4f2e-bb0a-e4b24566303e",
   "metadata": {},
   "outputs": [
    {
     "name": "stdout",
     "output_type": "stream",
     "text": [
      "(637729, 7) (637729,) (159433, 7) (159433,)\n"
     ]
    }
   ],
   "source": [
    "print(X_train.shape, Y_train.shape, X_test.shape, Y_test.shape)"
   ]
  },
  {
   "cell_type": "code",
   "execution_count": 27,
   "id": "a6509a22-98b9-4478-976d-75acecf7f0da",
   "metadata": {},
   "outputs": [
    {
     "data": {
      "text/html": [
       "<div>\n",
       "<style scoped>\n",
       "    .dataframe tbody tr th:only-of-type {\n",
       "        vertical-align: middle;\n",
       "    }\n",
       "\n",
       "    .dataframe tbody tr th {\n",
       "        vertical-align: top;\n",
       "    }\n",
       "\n",
       "    .dataframe thead th {\n",
       "        text-align: right;\n",
       "    }\n",
       "</style>\n",
       "<table border=\"1\" class=\"dataframe\">\n",
       "  <thead>\n",
       "    <tr style=\"text-align: right;\">\n",
       "      <th></th>\n",
       "      <th>Depthm</th>\n",
       "      <th>Salnty</th>\n",
       "      <th>STheta</th>\n",
       "      <th>R_SIGMA</th>\n",
       "      <th>R_SVA</th>\n",
       "      <th>R_DYNHT</th>\n",
       "      <th>R_PRES</th>\n",
       "    </tr>\n",
       "    <tr>\n",
       "      <th>Btl_Cnt</th>\n",
       "      <th></th>\n",
       "      <th></th>\n",
       "      <th></th>\n",
       "      <th></th>\n",
       "      <th></th>\n",
       "      <th></th>\n",
       "      <th></th>\n",
       "    </tr>\n",
       "  </thead>\n",
       "  <tbody>\n",
       "    <tr>\n",
       "      <th>426757</th>\n",
       "      <td>10</td>\n",
       "      <td>33.689</td>\n",
       "      <td>23.664</td>\n",
       "      <td>23.660</td>\n",
       "      <td>422.5</td>\n",
       "      <td>0.040</td>\n",
       "      <td>10</td>\n",
       "    </tr>\n",
       "    <tr>\n",
       "      <th>805039</th>\n",
       "      <td>75</td>\n",
       "      <td>33.030</td>\n",
       "      <td>25.298</td>\n",
       "      <td>25.298</td>\n",
       "      <td>268.1</td>\n",
       "      <td>0.246</td>\n",
       "      <td>75</td>\n",
       "    </tr>\n",
       "    <tr>\n",
       "      <th>331001</th>\n",
       "      <td>500</td>\n",
       "      <td>34.059</td>\n",
       "      <td>26.875</td>\n",
       "      <td>26.870</td>\n",
       "      <td>123.0</td>\n",
       "      <td>0.990</td>\n",
       "      <td>503</td>\n",
       "    </tr>\n",
       "    <tr>\n",
       "      <th>583655</th>\n",
       "      <td>300</td>\n",
       "      <td>34.023</td>\n",
       "      <td>26.686</td>\n",
       "      <td>26.680</td>\n",
       "      <td>139.3</td>\n",
       "      <td>0.640</td>\n",
       "      <td>302</td>\n",
       "    </tr>\n",
       "    <tr>\n",
       "      <th>505029</th>\n",
       "      <td>200</td>\n",
       "      <td>34.040</td>\n",
       "      <td>26.267</td>\n",
       "      <td>26.260</td>\n",
       "      <td>178.7</td>\n",
       "      <td>0.550</td>\n",
       "      <td>201</td>\n",
       "    </tr>\n",
       "  </tbody>\n",
       "</table>\n",
       "</div>"
      ],
      "text/plain": [
       "         Depthm  Salnty  STheta  R_SIGMA  R_SVA  R_DYNHT  R_PRES\n",
       "Btl_Cnt                                                         \n",
       "426757       10  33.689  23.664   23.660  422.5    0.040      10\n",
       "805039       75  33.030  25.298   25.298  268.1    0.246      75\n",
       "331001      500  34.059  26.875   26.870  123.0    0.990     503\n",
       "583655      300  34.023  26.686   26.680  139.3    0.640     302\n",
       "505029      200  34.040  26.267   26.260  178.7    0.550     201"
      ]
     },
     "execution_count": 27,
     "metadata": {},
     "output_type": "execute_result"
    }
   ],
   "source": [
    "X_train.head()"
   ]
  },
  {
   "cell_type": "code",
   "execution_count": 28,
   "id": "af666a33-6bca-4f07-953d-a9c8dd92c7f6",
   "metadata": {},
   "outputs": [],
   "source": [
    "poly = PolynomialFeatures(degree = 3)\n",
    "X_train_poly = poly.fit_transform(X_train)\n",
    "X_test_poly = poly.transform(X_test)"
   ]
  },
  {
   "cell_type": "code",
   "execution_count": 29,
   "id": "614b8c29-789f-4a55-9784-81e75328ecee",
   "metadata": {},
   "outputs": [
    {
     "data": {
      "text/plain": [
       "120"
      ]
     },
     "execution_count": 29,
     "metadata": {},
     "output_type": "execute_result"
    }
   ],
   "source": [
    "len(X_train_poly[0])"
   ]
  },
  {
   "cell_type": "code",
   "execution_count": 30,
   "id": "0a009c3c-fdd3-4d9d-ba7e-499246d2b8b7",
   "metadata": {},
   "outputs": [
    {
     "name": "stdout",
     "output_type": "stream",
     "text": [
      "Best Parameters:\n",
      " {'ridge__alpha': 10.0}\n"
     ]
    }
   ],
   "source": [
    "lin_model = make_pipeline(StandardScaler(), Ridge())\n",
    "param_grid = {'ridge__alpha': [0.1, 1.0, 10.0]}\n",
    "\n",
    "lin_model = GridSearchCV(estimator=lin_model,\n",
    "                         param_grid = param_grid,\n",
    "                         cv=10)\n",
    "\n",
    "lin_model.fit(X_train_poly, Y_train)\n",
    "\n",
    "print(\"Best Parameters:\\n\", lin_model.best_params_)\n",
    "\n",
    "# Select best log model\n",
    "best_lin = lin_model.best_estimator_\n",
    "\n",
    "# Make predictions using the optimised parameters\n",
    "Y_pred = best_lin.predict(X_test_poly)"
   ]
  },
  {
   "cell_type": "markdown",
   "id": "a3da20d3-65b2-4de7-ab7f-a38d15cc6c5c",
   "metadata": {},
   "source": [
    "**5. Evaluation of prediction model**"
   ]
  },
  {
   "cell_type": "code",
   "execution_count": 31,
   "id": "f0b9d773-ccae-4e92-963a-48850ed9f587",
   "metadata": {},
   "outputs": [
    {
     "data": {
      "image/png": "[encoded data removed]",
      "text/plain": [
       "<Figure size 640x480 with 1 Axes>"
      ]
     },
     "metadata": {},
     "output_type": "display_data"
    }
   ],
   "source": [
    "plt.scatter(Y_pred, Y_test)\n",
    "plt.title(\"The relatioship between actual and predicted temperature\", fontsize=16)\n",
    "plt.xlabel(\"Actual Temperature\")\n",
    "plt.ylabel(\"predicted Temperature\")\n",
    "plt.show()"
   ]
  },
  {
   "cell_type": "markdown",
   "id": "6134471f-8983-4b35-b1eb-6ada041194ee",
   "metadata": {},
   "source": [
    "As we can see in the previous plot, there is a very good relationship between the actual and predicted temperature values and we can say that almosltly the eqyation of the previous is y = x"
   ]
  },
  {
   "cell_type": "markdown",
   "id": "b5efa700-049c-4642-bfce-bbfaee8e64ee",
   "metadata": {},
   "source": [
    "calculate of evaluation parameters to assess our prediction model goodness"
   ]
  },
  {
   "cell_type": "code",
   "execution_count": 32,
   "id": "d6972cf6-08fb-49cd-9929-d845e09e5aad",
   "metadata": {},
   "outputs": [],
   "source": [
    "# Calculate R-squared\n",
    "r2 = r2_score(Y_test, Y_pred)\n",
    "\n",
    "# Calculate mean squared error (MSE)\n",
    "mse = mean_squared_error(Y_test, Y_pred)\n",
    "\n",
    "# Calculate mean absolute error (MAE)\n",
    "mae = mean_absolute_error(Y_test, Y_pred)"
   ]
  },
  {
   "cell_type": "code",
   "execution_count": 33,
   "id": "51dd1fc7-9b80-4ddd-90da-d98e69e297b5",
   "metadata": {},
   "outputs": [
    {
     "name": "stdout",
     "output_type": "stream",
     "text": [
      "R-squared is: 0.999675227438947\n",
      "mean squared error is: 0.005802578425200124\n",
      "mean absolute error is: 0.03291052760174622\n"
     ]
    }
   ],
   "source": [
    "print(\"R-squared is:\", r2)\n",
    "print(\"mean squared error is:\", mse)\n",
    "print(\"mean absolute error is:\", mae)"
   ]
  },
  {
   "cell_type": "markdown",
   "id": "faeb3e75-835a-4dae-b337-9a56ecc70377",
   "metadata": {},
   "source": [
    "As we can see through the evaluation values, R_squared is more than 0.99 and this means that the selected features (independent variables) can explain most of the variance in the water temperature (dependent variable) and the small values of mean squared error and mean absolute error refer to a very good prediction."
   ]
  }
 ],
 "metadata": {
  "kernelspec": {
   "display_name": "Python 3 (ipykernel)",
   "language": "python",
   "name": "python3"
  },
  "language_info": {
   "codemirror_mode": {
    "name": "ipython",
    "version": 3
   },
   "file_extension": ".py",
   "mimetype": "text/x-python",
   "name": "python",
   "nbconvert_exporter": "python",
   "pygments_lexer": "ipython3",
   "version": "3.11.5"
  }
 },
 "nbformat": 4,
 "nbformat_minor": 5
}
